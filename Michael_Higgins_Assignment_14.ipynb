{
 "cells": [
  {
   "cell_type": "markdown",
   "metadata": {},
   "source": [
    "# 1. [20 pts] List three popular RNN types, then briefly compare and contrast their features and applications."
   ]
  },
  {
   "cell_type": "markdown",
   "metadata": {},
   "source": [
    "Three popular RNN types are Elman RNNs, LSTM RNNs and GRU RNNs. Elman RNNs "
   ]
  },
  {
   "cell_type": "markdown",
   "metadata": {},
   "source": [
    "# 2. [20 pts] Explain why the LSTM RNN performed superbly compared to the remainder of the classifiers in the module."
   ]
  },
  {
   "cell_type": "markdown",
   "metadata": {},
   "source": [
    "# 3. [20 pts] From the surname dataset, using only two languages {English and Scottish}, build a classifier to distinguish between them. Report 10-fold cross validation performance."
   ]
  },
  {
   "cell_type": "markdown",
   "metadata": {},
   "source": [
    "# 4. [20 pts] Set the WEIGHTS to None and report the classification performance of (3.). Explain what caused the performance drop?"
   ]
  },
  {
   "cell_type": "markdown",
   "metadata": {},
   "source": []
  },
  {
   "cell_type": "code",
   "execution_count": 50,
   "metadata": {},
   "outputs": [
    {
     "name": "stdout",
     "output_type": "stream",
     "text": [
      "3668 14\n",
      "100 10\n"
     ]
    }
   ],
   "source": [
    "import os\n",
    "import pandas as pd\n",
    "import csv\n",
    "folder_path=['./surnames/English.txt','./surnames/Scottish.txt']\n",
    "\n",
    "def folder_parse(path):\n",
    "    names=[]\n",
    "\n",
    "    with open(path, 'r', encoding=\"utf-8\") as f:\n",
    "        for line in f:\n",
    "            name = line.strip()  # Remove leading/trailing whitespaces\n",
    "            #print(list(name))\n",
    "            names.append(len(name))\n",
    "    return names\n",
    "for folder in folder_path:\n",
    "    stats=folder_parse(folder)\n",
    "    print(len(stats),max(stats))"
   ]
  },
  {
   "cell_type": "code",
   "execution_count": 42,
   "metadata": {},
   "outputs": [],
   "source": [
    "from os import listdir, path\n",
    "import numpy as np\n",
    "PATH_DATA='./surnames'\n",
    "LANGS=['English','Scottish']\n",
    "SEQ_SIZE=14"
   ]
  },
  {
   "cell_type": "code",
   "execution_count": 43,
   "metadata": {},
   "outputs": [],
   "source": [
    "# Letter index 0 is the padding value, i.e. padding to fill up the vector to SEQ_SIZE, necessary for batched\n",
    "# Note that eventually we will use torch Tensor to represent these fixed length sequences\n",
    "LetterVocabulary, LetterVocabularyIndex, Index2Voc, Sequences = {' ':0}, 1, {0:' '}, {}\n",
    "\n",
    "for fn in sorted([_ for _ in listdir(PATH_DATA) if _.endswith('.txt')]):\n",
    "    lang, seqs = path.splitext(path.basename(fn))[0], []\n",
    "\n",
    "    if lang not in LANGS:  # test case\n",
    "        continue\n",
    "\n",
    "    with open(path.join(PATH_DATA, fn), 'r', encoding=\"utf8\") as fin:\n",
    "        for row in fin.read().splitlines():\n",
    "            seq = np.zeros(SEQ_SIZE, dtype=np.int32)\n",
    "            for i, letter in enumerate(row.lower()):  # Convert the surname to lower case\n",
    "#            for i, letter in enumerate(row):\n",
    "                if i < SEQ_SIZE:\n",
    "                    if letter not in LetterVocabulary:\n",
    "                        LetterVocabulary[letter] = LetterVocabularyIndex\n",
    "                        Index2Voc[LetterVocabularyIndex] = letter\n",
    "                        LetterVocabularyIndex += 1\n",
    "                    seq[i] = LetterVocabulary[letter]\n",
    "            seqs += [seq]\n",
    "    Sequences[lang] = seqs"
   ]
  },
  {
   "cell_type": "code",
   "execution_count": 46,
   "metadata": {},
   "outputs": [
    {
     "name": "stdout",
     "output_type": "stream",
     "text": [
      "abbey          [1 2 2 4 5 0 0 0 0 0 0 0 0 0]\n",
      "wilson         [18  9 10  3  6 16  0  0  0  0  0  0  0  0]\n"
     ]
    }
   ],
   "source": [
    "# Sanity check\n",
    "def print_names(_lang, _k):\n",
    "    print(''.join([Index2Voc[c] for c in Sequences[_lang][_k]]), Sequences[_lang][_k]) if _lang in LANGS else None\n",
    "\n",
    "# Some examples\n",
    "print_names('English', 1)\n",
    "print_names('Scottish', 2)"
   ]
  },
  {
   "cell_type": "code",
   "execution_count": 49,
   "metadata": {},
   "outputs": [
    {
     "name": "stdout",
     "output_type": "stream",
     "text": [
      "3768 14 2\n"
     ]
    }
   ],
   "source": [
    "# Sanity\n",
    "N = sum([len(Sequences[_]) for _ in Sequences])\n",
    "T = Sequences[''][0].shape[0]\n",
    "C = len(np.unique(Sequences.keys())[0])\n",
    "print(N, T, C)"
   ]
  },
  {
   "cell_type": "code",
   "execution_count": 51,
   "metadata": {},
   "outputs": [
    {
     "name": "stdout",
     "output_type": "stream",
     "text": [
      "M= 26\n"
     ]
    }
   ],
   "source": [
    "import itertools\n",
    "\n",
    "# Pool all sequences and all languages\n",
    "Seqs = [Sequences[LANGS[_]] for _ in range(C)]\n",
    "Seqs = list(itertools.chain(*Seqs))\n",
    "\n",
    "# Number of features is the number of unique characters\n",
    "M = np.max(Seqs)\n",
    "print(f'M= {M}')"
   ]
  },
  {
   "cell_type": "code",
   "execution_count": 53,
   "metadata": {},
   "outputs": [
    {
     "name": "stdout",
     "output_type": "stream",
     "text": [
      "tensor([0.0265, 0.9735])\n"
     ]
    }
   ],
   "source": [
    "import torch\n",
    "# Apriori class balance, i.e. inverse probability of the class\n",
    "nk = np.array([len(Sequences[LANGS[_]]) for _ in range(C)], dtype=np.float32)\n",
    "nk = (N/nk)\n",
    "nk = nk/nk.sum()\n",
    "\n",
    "# Class weights, inverse apriori probability\n",
    "WEIGHTS = torch.tensor(nk, dtype=torch.float32)\n",
    "\n",
    "print(WEIGHTS)"
   ]
  },
  {
   "cell_type": "code",
   "execution_count": null,
   "metadata": {},
   "outputs": [],
   "source": []
  },
  {
   "cell_type": "markdown",
   "metadata": {},
   "source": [
    "# 4. [20 pts] Set the WEIGHTS to None and report the classification performance of (3.). Explain what caused the performance drop?"
   ]
  },
  {
   "cell_type": "code",
   "execution_count": null,
   "metadata": {},
   "outputs": [],
   "source": []
  }
 ],
 "metadata": {
  "kernelspec": {
   "display_name": "Python 3",
   "language": "python",
   "name": "python3"
  },
  "language_info": {
   "codemirror_mode": {
    "name": "ipython",
    "version": 3
   },
   "file_extension": ".py",
   "mimetype": "text/x-python",
   "name": "python",
   "nbconvert_exporter": "python",
   "pygments_lexer": "ipython3",
   "version": "3.10.13"
  }
 },
 "nbformat": 4,
 "nbformat_minor": 2
}
